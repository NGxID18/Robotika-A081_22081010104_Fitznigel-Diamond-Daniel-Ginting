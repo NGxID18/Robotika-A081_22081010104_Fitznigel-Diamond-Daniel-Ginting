{
 "cells": [
  {
   "cell_type": "code",
   "execution_count": null,
   "id": "b0801ee7-2fba-4ca7-8701-5fd74e59e4c2",
   "metadata": {},
   "outputs": [
    {
     "name": "stdout",
     "output_type": "stream",
     "text": [
      "Gagal konek ke ESP32: could not open port 'COM6': FileNotFoundError(2, 'The system cannot find the file specified.', None, 2)\n"
     ]
    },
    {
     "name": "stdin",
     "output_type": "stream",
     "text": [
      "Pilih mode awal: [a] Kamera / [m] Manual:  a\n"
     ]
    },
    {
     "name": "stdout",
     "output_type": "stream",
     "text": [
      "\n",
      "Mode OTOMATIS (kamera).\n",
      "Tekan 'm' → manual | 'q' → keluar\n",
      "\n",
      "Mode MANUAL.\n",
      "Ketik:\n",
      "1 → MAJU | 2 → KANAN | 3 → KIRI | 4 → MUNDUR | 0 → STOP\n",
      "'a' → kamera | 'q' → keluar\n"
     ]
    },
    {
     "name": "stdin",
     "output_type": "stream",
     "text": [
      "Input:  1\n",
      "Input:  3\n",
      "Input:  4\n",
      "Input:  0\n"
     ]
    },
    {
     "name": "stdout",
     "output_type": "stream",
     "text": [
      "Input:  1\n",
      "Input:  2\n",
      "Input:  3\n",
      "Input:  4\n",
      "Input:  5\n"
     ]
    },
    {
     "name": "stdout",
     "output_type": "stream",
     "text": [
      "Perintah tidak valid!\n"
     ]
    },
    {
     "name": "stdout",
     "output_type": "stream",
     "text": [
      "Input:  0\n",
      "Input:  a\n"
     ]
    },
    {
     "name": "stdout",
     "output_type": "stream",
     "text": [
      "\n",
      "Mode OTOMATIS (kamera).\n",
      "Tekan 'm' → manual | 'q' → keluar\n",
      "Keluar dari program.\n"
     ]
    },
    {
     "name": "stdout",
     "output_type": "stream",
     "text": [
      "Pilih mode awal: [a] Kamera / [m] Manual:  a\n"
     ]
    },
    {
     "name": "stdout",
     "output_type": "stream",
     "text": [
      "Mode OTOMATIS aktif (kamera). Tekan 'm' untuk mode manual, 'q' untuk keluar.\n",
      "Mode tidak dikenali.\n"
     ]
    }
   ],
   "source": [
    "import cv2\n",
    "import serial\n",
    "import time\n",
    "\n",
    "# Hubungkan ke ESP32\n",
    "try:\n",
    "    ser = serial.Serial('COM6', 115200, timeout=1)  # Ganti COM sesuai port kamu\n",
    "    time.sleep(2)\n",
    "    print(\"ESP32 connected.\")\n",
    "except Exception as e:\n",
    "    print(\"Gagal konek ke ESP32:\", e)\n",
    "    ser = None\n",
    "\n",
    "# === MODE KAMERA ===\n",
    "def kamera_mode():\n",
    "    cap = cv2.VideoCapture(0)\n",
    "    print(\"\\nMode OTOMATIS (kamera).\")\n",
    "    print(\"Tekan 'm' → manual | 'q' → keluar\")\n",
    "\n",
    "    while True:\n",
    "        ret, frame = cap.read()\n",
    "        if not ret:\n",
    "            continue\n",
    "\n",
    "        # Ambil bagian tengah\n",
    "        h_center = frame.shape[0] // 2\n",
    "        w_center = frame.shape[1] // 2\n",
    "        center = frame[h_center-50:h_center+50, w_center-50:w_center+50]\n",
    "\n",
    "        # Gambar kotak di frame utama\n",
    "        cv2.rectangle(frame, (w_center-50, h_center-50), (w_center+50, h_center+50), (255, 255, 255), 2)\n",
    "\n",
    "        # Konversi ke HSV\n",
    "        hsv = cv2.cvtColor(center, cv2.COLOR_BGR2HSV)\n",
    "        avg_color = hsv.mean(axis=0).mean(axis=0)\n",
    "        h, s, v = avg_color\n",
    "\n",
    "        command = None\n",
    "        color = \"UNKNOWN\"\n",
    "\n",
    "        # Deteksi warna\n",
    "        if 35 < h < 85:\n",
    "            color = \"GREEN\"\n",
    "            command = b'1'\n",
    "        elif 20 < h <= 35:\n",
    "            color = \"YELLOW\"\n",
    "            command = b'3'\n",
    "        elif 85 < h <= 130:\n",
    "            color = \"BLUE\"\n",
    "            command = b'2'\n",
    "        elif h <= 10 or h >= 160:\n",
    "            color = \"RED\"\n",
    "            command = b'0'\n",
    "        elif s < 30 and v > 200:\n",
    "            color = \"WHITE\"\n",
    "            command = b'4'\n",
    "\n",
    "        if ser and command:\n",
    "            ser.write(command)\n",
    "\n",
    "        # Tampilkan deteksi warna\n",
    "        cv2.putText(frame, f\"COLOR: {color}\", (10, 30),\n",
    "                    cv2.FONT_HERSHEY_SIMPLEX, 1,\n",
    "                    (0, 255, 0) if color == \"GREEN\" else\n",
    "                    (0, 255, 255) if color == \"YELLOW\" else\n",
    "                    (255, 0, 0) if color == \"BLUE\" else\n",
    "                    (255, 255, 255) if color == \"WHITE\" else\n",
    "                    (0, 0, 255), 2)\n",
    "\n",
    "        # Tampilkan frame dan crop tengah\n",
    "        cv2.imshow(\"Camera View\", frame)\n",
    "        cv2.imshow(\"Center View\", center)\n",
    "\n",
    "        key = cv2.waitKey(1) & 0xFF\n",
    "        if key == ord('q'):\n",
    "            cap.release()\n",
    "            cv2.destroyAllWindows()\n",
    "            return 'quit'\n",
    "        elif key == ord('m'):\n",
    "            cap.release()\n",
    "            cv2.destroyAllWindows()\n",
    "            return 'manual'\n",
    "\n",
    "# === MODE INPUT ===\n",
    "def manual_mode():\n",
    "    print(\"\\nMode MANUAL.\")\n",
    "    print(\"Ketik:\")\n",
    "    print(\"1 → MAJU | 2 → KANAN | 3 → KIRI | 4 → MUNDUR | 0 → STOP\")\n",
    "    print(\"'a' → kamera | 'q' → keluar\")\n",
    "\n",
    "    while True:\n",
    "        cmd = input(\"Input: \").strip().lower()\n",
    "\n",
    "        if cmd == 'q':\n",
    "            return 'quit'\n",
    "        elif cmd == 'a':\n",
    "            return 'kamera'\n",
    "        elif cmd in ['0', '1', '2', '3', '4']:\n",
    "            if ser:\n",
    "                ser.write(cmd.encode())\n",
    "        else:\n",
    "            print(\"Perintah tidak valid!\")\n",
    "\n",
    "# === PILIH MODE AWAL ===\n",
    "mode = input(\"Pilih mode awal: [a] Kamera / [m] Manual: \").lower()\n",
    "\n",
    "# === LOOP UTAMA ===\n",
    "while True:\n",
    "    if mode == 'a':\n",
    "        next_mode = kamera_mode()\n",
    "    elif mode == 'm':\n",
    "        next_mode = manual_mode()\n",
    "    else:\n",
    "        print(\"Mode tidak dikenali.\")\n",
    "        break\n",
    "\n",
    "    # Normalisasi nama mode\n",
    "    if next_mode == 'kamera':\n",
    "        mode = 'a'\n",
    "    elif next_mode == 'manual':\n",
    "        mode = 'm'\n",
    "    elif next_mode == 'quit':\n",
    "        print(\"Keluar dari program.\")\n",
    "        break\n",
    "    else:\n",
    "        print(\"Mode tidak dikenali.\")\n",
    "        break\n",
    "\n",
    "# === Tutup koneksi ===\n",
    "if ser:\n",
    "    ser.close()\n"
   ]
  },
  {
   "cell_type": "code",
   "execution_count": null,
   "id": "6ae68ea6-d471-4465-a9dd-aa78b3e4a8ec",
   "metadata": {},
   "outputs": [],
   "source": []
  }
 ],
 "metadata": {
  "kernelspec": {
   "display_name": "Python 3 (ipykernel)",
   "language": "python",
   "name": "python3"
  },
  "language_info": {
   "codemirror_mode": {
    "name": "ipython",
    "version": 3
   },
   "file_extension": ".py",
   "mimetype": "text/x-python",
   "name": "python",
   "nbconvert_exporter": "python",
   "pygments_lexer": "ipython3",
   "version": "3.13.5"
  }
 },
 "nbformat": 4,
 "nbformat_minor": 5
}
